{
 "cells": [
  {
   "cell_type": "code",
   "execution_count": 1,
   "metadata": {},
   "outputs": [],
   "source": [
    "import pandas as pd\n",
    "import numpy as np\n",
    "import pickle\n",
    "from surprise.accuracy import rmse\n",
    "from surprise.model_selection import train_test_split\n",
    "\n",
    "import seaborn as sns\n",
    "from aequitas.group import Group\n",
    "from aequitas.bias import Bias\n",
    "from aequitas.fairness import Fairness\n",
    "from aequitas.plotting import Plot\n",
    "\n",
    "import warnings; warnings.simplefilter('ignore')\n",
    "from model_process import *\n",
    "\n",
    "%matplotlib inline"
   ]
  },
  {
   "cell_type": "code",
   "execution_count": 2,
   "metadata": {},
   "outputs": [],
   "source": [
    "df = pd.read_csv('newrate.csv')"
   ]
  },
  {
   "cell_type": "code",
   "execution_count": 3,
   "metadata": {},
   "outputs": [],
   "source": [
    "df.drop(columns =['Unnamed: 0','Unnamed: 0.1' ], inplace = True)"
   ]
  },
  {
   "cell_type": "code",
   "execution_count": 4,
   "metadata": {},
   "outputs": [
    {
     "data": {
      "text/html": [
       "<div>\n",
       "<style scoped>\n",
       "    .dataframe tbody tr th:only-of-type {\n",
       "        vertical-align: middle;\n",
       "    }\n",
       "\n",
       "    .dataframe tbody tr th {\n",
       "        vertical-align: top;\n",
       "    }\n",
       "\n",
       "    .dataframe thead th {\n",
       "        text-align: right;\n",
       "    }\n",
       "</style>\n",
       "<table border=\"1\" class=\"dataframe\">\n",
       "  <thead>\n",
       "    <tr style=\"text-align: right;\">\n",
       "      <th></th>\n",
       "      <th>Date</th>\n",
       "      <th>Number</th>\n",
       "      <th>Movie</th>\n",
       "      <th>moviename</th>\n",
       "      <th>score</th>\n",
       "      <th>Year</th>\n",
       "    </tr>\n",
       "  </thead>\n",
       "  <tbody>\n",
       "    <tr>\n",
       "      <th>0</th>\n",
       "      <td>2022-09-07T18:53:14</td>\n",
       "      <td>15531</td>\n",
       "      <td>GET /rate/hey+happy+2001</td>\n",
       "      <td>hey+happy</td>\n",
       "      <td>3</td>\n",
       "      <td>2001</td>\n",
       "    </tr>\n",
       "    <tr>\n",
       "      <th>1</th>\n",
       "      <td>2022-09-07T18:54:15</td>\n",
       "      <td>138100</td>\n",
       "      <td>GET /rate/keeping+the+promise+1997</td>\n",
       "      <td>keeping+the+promise</td>\n",
       "      <td>4</td>\n",
       "      <td>1997</td>\n",
       "    </tr>\n",
       "    <tr>\n",
       "      <th>2</th>\n",
       "      <td>2022-09-07T18:54:26</td>\n",
       "      <td>152907</td>\n",
       "      <td>GET /rate/a+boy+called+hate+1996</td>\n",
       "      <td>a+boy+called+hate</td>\n",
       "      <td>3</td>\n",
       "      <td>1996</td>\n",
       "    </tr>\n",
       "    <tr>\n",
       "      <th>3</th>\n",
       "      <td>2022-09-07T18:55:35</td>\n",
       "      <td>195501</td>\n",
       "      <td>GET /rate/dead+tired+1994</td>\n",
       "      <td>dead+tired</td>\n",
       "      <td>4</td>\n",
       "      <td>1994</td>\n",
       "    </tr>\n",
       "    <tr>\n",
       "      <th>4</th>\n",
       "      <td>2022-09-07T18:56:47</td>\n",
       "      <td>50030</td>\n",
       "      <td>GET /rate/le+nouveau+jean-claude+2002</td>\n",
       "      <td>le+nouveau+jean-claude</td>\n",
       "      <td>3</td>\n",
       "      <td>2002</td>\n",
       "    </tr>\n",
       "  </tbody>\n",
       "</table>\n",
       "</div>"
      ],
      "text/plain": [
       "                  Date  Number                                  Movie  \\\n",
       "0  2022-09-07T18:53:14   15531               GET /rate/hey+happy+2001   \n",
       "1  2022-09-07T18:54:15  138100     GET /rate/keeping+the+promise+1997   \n",
       "2  2022-09-07T18:54:26  152907       GET /rate/a+boy+called+hate+1996   \n",
       "3  2022-09-07T18:55:35  195501              GET /rate/dead+tired+1994   \n",
       "4  2022-09-07T18:56:47   50030  GET /rate/le+nouveau+jean-claude+2002   \n",
       "\n",
       "                moviename  score  Year  \n",
       "0               hey+happy      3  2001  \n",
       "1     keeping+the+promise      4  1997  \n",
       "2       a+boy+called+hate      3  1996  \n",
       "3              dead+tired      4  1994  \n",
       "4  le+nouveau+jean-claude      3  2002  "
      ]
     },
     "execution_count": 4,
     "metadata": {},
     "output_type": "execute_result"
    }
   ],
   "source": [
    "df.head()"
   ]
  },
  {
   "cell_type": "code",
   "execution_count": 9,
   "metadata": {},
   "outputs": [],
   "source": [
    "filet = open('./finalized_modelA.pkl','rb')\n",
    "algo = pickle.load(filet)\n",
    "metadata = df\n",
    "df['label_value'] = 0.0\n",
    "df['id'] = range(0, len(df))\n"
   ]
  },
  {
   "cell_type": "code",
   "execution_count": null,
   "metadata": {},
   "outputs": [],
   "source": []
  },
  {
   "cell_type": "code",
   "execution_count": 23,
   "metadata": {},
   "outputs": [
    {
     "data": {
      "text/html": [
       "<div>\n",
       "<style scoped>\n",
       "    .dataframe tbody tr th:only-of-type {\n",
       "        vertical-align: middle;\n",
       "    }\n",
       "\n",
       "    .dataframe tbody tr th {\n",
       "        vertical-align: top;\n",
       "    }\n",
       "\n",
       "    .dataframe thead th {\n",
       "        text-align: right;\n",
       "    }\n",
       "</style>\n",
       "<table border=\"1\" class=\"dataframe\">\n",
       "  <thead>\n",
       "    <tr style=\"text-align: right;\">\n",
       "      <th></th>\n",
       "      <th>Date</th>\n",
       "      <th>Number</th>\n",
       "      <th>Movie</th>\n",
       "      <th>moviename</th>\n",
       "      <th>score</th>\n",
       "      <th>Year</th>\n",
       "      <th>Era</th>\n",
       "      <th>label_value</th>\n",
       "      <th>Average RMSE</th>\n",
       "    </tr>\n",
       "  </thead>\n",
       "  <tbody>\n",
       "    <tr>\n",
       "      <th>0</th>\n",
       "      <td>2022-09-07T18:53:14</td>\n",
       "      <td>15531</td>\n",
       "      <td>GET /rate/hey+happy+2001</td>\n",
       "      <td>hey+happy</td>\n",
       "      <td>3</td>\n",
       "      <td>2001</td>\n",
       "      <td>2000.0</td>\n",
       "      <td>3.77452</td>\n",
       "      <td>0.77452</td>\n",
       "    </tr>\n",
       "    <tr>\n",
       "      <th>1</th>\n",
       "      <td>2022-09-07T18:54:15</td>\n",
       "      <td>138100</td>\n",
       "      <td>GET /rate/keeping+the+promise+1997</td>\n",
       "      <td>keeping+the+promise</td>\n",
       "      <td>4</td>\n",
       "      <td>1997</td>\n",
       "      <td>1950.0</td>\n",
       "      <td>3.77452</td>\n",
       "      <td>0.22548</td>\n",
       "    </tr>\n",
       "    <tr>\n",
       "      <th>2</th>\n",
       "      <td>2022-09-07T18:54:26</td>\n",
       "      <td>152907</td>\n",
       "      <td>GET /rate/a+boy+called+hate+1996</td>\n",
       "      <td>a+boy+called+hate</td>\n",
       "      <td>3</td>\n",
       "      <td>1996</td>\n",
       "      <td>1950.0</td>\n",
       "      <td>3.77452</td>\n",
       "      <td>0.77452</td>\n",
       "    </tr>\n",
       "    <tr>\n",
       "      <th>3</th>\n",
       "      <td>2022-09-07T18:55:35</td>\n",
       "      <td>195501</td>\n",
       "      <td>GET /rate/dead+tired+1994</td>\n",
       "      <td>dead+tired</td>\n",
       "      <td>4</td>\n",
       "      <td>1994</td>\n",
       "      <td>1950.0</td>\n",
       "      <td>3.77452</td>\n",
       "      <td>0.22548</td>\n",
       "    </tr>\n",
       "    <tr>\n",
       "      <th>4</th>\n",
       "      <td>2022-09-07T18:56:47</td>\n",
       "      <td>50030</td>\n",
       "      <td>GET /rate/le+nouveau+jean-claude+2002</td>\n",
       "      <td>le+nouveau+jean-claude</td>\n",
       "      <td>3</td>\n",
       "      <td>2002</td>\n",
       "      <td>2000.0</td>\n",
       "      <td>3.77452</td>\n",
       "      <td>0.77452</td>\n",
       "    </tr>\n",
       "    <tr>\n",
       "      <th>...</th>\n",
       "      <td>...</td>\n",
       "      <td>...</td>\n",
       "      <td>...</td>\n",
       "      <td>...</td>\n",
       "      <td>...</td>\n",
       "      <td>...</td>\n",
       "      <td>...</td>\n",
       "      <td>...</td>\n",
       "      <td>...</td>\n",
       "    </tr>\n",
       "    <tr>\n",
       "      <th>137224</th>\n",
       "      <td>2022-08-18T17:07:44</td>\n",
       "      <td>190514</td>\n",
       "      <td>GET /rate/the+lion+king+1994</td>\n",
       "      <td>the+lion+king</td>\n",
       "      <td>5</td>\n",
       "      <td>1994</td>\n",
       "      <td>1950.0</td>\n",
       "      <td>3.77452</td>\n",
       "      <td>1.22548</td>\n",
       "    </tr>\n",
       "    <tr>\n",
       "      <th>137225</th>\n",
       "      <td>2022-08-18T17:09:30</td>\n",
       "      <td>109806</td>\n",
       "      <td>GET /rate/ed+wood+1994</td>\n",
       "      <td>ed+wood</td>\n",
       "      <td>5</td>\n",
       "      <td>1994</td>\n",
       "      <td>1950.0</td>\n",
       "      <td>3.77452</td>\n",
       "      <td>1.22548</td>\n",
       "    </tr>\n",
       "    <tr>\n",
       "      <th>137226</th>\n",
       "      <td>2022-08-18T19:35:23</td>\n",
       "      <td>172756</td>\n",
       "      <td>GET /rate/the+godfather+1972</td>\n",
       "      <td>the+godfather</td>\n",
       "      <td>4</td>\n",
       "      <td>1972</td>\n",
       "      <td>1950.0</td>\n",
       "      <td>3.77452</td>\n",
       "      <td>0.22548</td>\n",
       "    </tr>\n",
       "    <tr>\n",
       "      <th>137227</th>\n",
       "      <td>2022-08-18T20:51:28</td>\n",
       "      <td>5005</td>\n",
       "      <td>GET /rate/pirates+of+the+caribbean+the+curse+o...</td>\n",
       "      <td>pirates+of+the+caribbean+the+curse+of+the+blac...</td>\n",
       "      <td>5</td>\n",
       "      <td>2003</td>\n",
       "      <td>2000.0</td>\n",
       "      <td>3.77452</td>\n",
       "      <td>1.22548</td>\n",
       "    </tr>\n",
       "    <tr>\n",
       "      <th>137228</th>\n",
       "      <td>2022-08-18T23:23:31</td>\n",
       "      <td>196311</td>\n",
       "      <td>GET /rate/planet+of+the+apes+1968</td>\n",
       "      <td>planet+of+the+apes</td>\n",
       "      <td>5</td>\n",
       "      <td>1968</td>\n",
       "      <td>1950.0</td>\n",
       "      <td>3.77452</td>\n",
       "      <td>1.22548</td>\n",
       "    </tr>\n",
       "  </tbody>\n",
       "</table>\n",
       "<p>137229 rows × 9 columns</p>\n",
       "</div>"
      ],
      "text/plain": [
       "                       Date  Number  \\\n",
       "0       2022-09-07T18:53:14   15531   \n",
       "1       2022-09-07T18:54:15  138100   \n",
       "2       2022-09-07T18:54:26  152907   \n",
       "3       2022-09-07T18:55:35  195501   \n",
       "4       2022-09-07T18:56:47   50030   \n",
       "...                     ...     ...   \n",
       "137224  2022-08-18T17:07:44  190514   \n",
       "137225  2022-08-18T17:09:30  109806   \n",
       "137226  2022-08-18T19:35:23  172756   \n",
       "137227  2022-08-18T20:51:28    5005   \n",
       "137228  2022-08-18T23:23:31  196311   \n",
       "\n",
       "                                                    Movie  \\\n",
       "0                                GET /rate/hey+happy+2001   \n",
       "1                      GET /rate/keeping+the+promise+1997   \n",
       "2                        GET /rate/a+boy+called+hate+1996   \n",
       "3                               GET /rate/dead+tired+1994   \n",
       "4                   GET /rate/le+nouveau+jean-claude+2002   \n",
       "...                                                   ...   \n",
       "137224                       GET /rate/the+lion+king+1994   \n",
       "137225                             GET /rate/ed+wood+1994   \n",
       "137226                       GET /rate/the+godfather+1972   \n",
       "137227  GET /rate/pirates+of+the+caribbean+the+curse+o...   \n",
       "137228                  GET /rate/planet+of+the+apes+1968   \n",
       "\n",
       "                                                moviename  score  Year  \\\n",
       "0                                               hey+happy      3  2001   \n",
       "1                                     keeping+the+promise      4  1997   \n",
       "2                                       a+boy+called+hate      3  1996   \n",
       "3                                              dead+tired      4  1994   \n",
       "4                                  le+nouveau+jean-claude      3  2002   \n",
       "...                                                   ...    ...   ...   \n",
       "137224                                      the+lion+king      5  1994   \n",
       "137225                                            ed+wood      5  1994   \n",
       "137226                                      the+godfather      4  1972   \n",
       "137227  pirates+of+the+caribbean+the+curse+of+the+blac...      5  2003   \n",
       "137228                                 planet+of+the+apes      5  1968   \n",
       "\n",
       "           Era  label_value  Average RMSE  \n",
       "0       2000.0      3.77452       0.77452  \n",
       "1       1950.0      3.77452       0.22548  \n",
       "2       1950.0      3.77452       0.77452  \n",
       "3       1950.0      3.77452       0.22548  \n",
       "4       2000.0      3.77452       0.77452  \n",
       "...        ...          ...           ...  \n",
       "137224  1950.0      3.77452       1.22548  \n",
       "137225  1950.0      3.77452       1.22548  \n",
       "137226  1950.0      3.77452       0.22548  \n",
       "137227  2000.0      3.77452       1.22548  \n",
       "137228  1950.0      3.77452       1.22548  \n",
       "\n",
       "[137229 rows x 9 columns]"
      ]
     },
     "execution_count": 23,
     "metadata": {},
     "output_type": "execute_result"
    }
   ],
   "source": [
    "for i in range(len(df)):\n",
    "    #print(df.iloc[i]['Number'])\n",
    "    df['label_value'][i] = (predict_review(df.iloc[i]['Number'], df.iloc[i]['moviename'], algo, metadata))\n",
    "    #if i > 10000:\n",
    "    #    break\n",
    "df"
   ]
  },
  {
   "cell_type": "code",
   "execution_count": 24,
   "metadata": {},
   "outputs": [],
   "source": [
    "df['Year'] = (df['Year'].astype(int))"
   ]
  },
  {
   "cell_type": "code",
   "execution_count": 28,
   "metadata": {},
   "outputs": [
    {
     "data": {
      "text/plain": [
       "2014"
      ]
     },
     "execution_count": 28,
     "metadata": {},
     "output_type": "execute_result"
    }
   ],
   "source": [
    "df['Year'].max()"
   ]
  },
  {
   "cell_type": "code",
   "execution_count": 13,
   "metadata": {},
   "outputs": [],
   "source": [
    "df.loc[(df['Year'] >= 1950) &  (df['Year'] < 2000), 'Era'] = 1950"
   ]
  },
  {
   "cell_type": "code",
   "execution_count": 14,
   "metadata": {},
   "outputs": [
    {
     "data": {
      "text/plain": [
       "array([2000., 1950., 1900., 1800.])"
      ]
     },
     "execution_count": 14,
     "metadata": {},
     "output_type": "execute_result"
    }
   ],
   "source": [
    "df['Era'].unique()\n"
   ]
  },
  {
   "cell_type": "code",
   "execution_count": 58,
   "metadata": {},
   "outputs": [],
   "source": [
    "df.drop(columns = ['Date', 'Movie'],inplace =True)"
   ]
  },
  {
   "cell_type": "code",
   "execution_count": 16,
   "metadata": {},
   "outputs": [
    {
     "data": {
      "text/plain": [
       "Index(['Date', 'Number', 'Movie', 'moviename', 'score', 'Year', 'Era'], dtype='object')"
      ]
     },
     "execution_count": 16,
     "metadata": {},
     "output_type": "execute_result"
    }
   ],
   "source": [
    "df.columns"
   ]
  },
  {
   "cell_type": "code",
   "execution_count": 69,
   "metadata": {},
   "outputs": [],
   "source": [
    "dt = df.drop(columns = ['Number', 'id', 'Era'])"
   ]
  },
  {
   "cell_type": "code",
   "execution_count": 21,
   "metadata": {},
   "outputs": [
    {
     "data": {
      "image/png": "[encoded data removed]",
      "text/plain": [
       "<Figure size 432x288 with 1 Axes>"
      ]
     },
     "metadata": {
      "needs_background": "light"
     },
     "output_type": "display_data"
    }
   ],
   "source": [
    "by_age = sns.countplot(x=\"score\", data=df,)"
   ]
  },
  {
   "cell_type": "code",
   "execution_count": 72,
   "metadata": {},
   "outputs": [],
   "source": [
    "df_2000 = df[df['Era'] == 2000]"
   ]
  },
  {
   "cell_type": "code",
   "execution_count": 19,
   "metadata": {},
   "outputs": [],
   "source": [
    "df['Average RMSE'] = abs(df['score'] - df['label_value'])"
   ]
  },
  {
   "cell_type": "code",
   "execution_count": 20,
   "metadata": {},
   "outputs": [
    {
     "data": {
      "text/html": [
       "<div>\n",
       "<style scoped>\n",
       "    .dataframe tbody tr th:only-of-type {\n",
       "        vertical-align: middle;\n",
       "    }\n",
       "\n",
       "    .dataframe tbody tr th {\n",
       "        vertical-align: top;\n",
       "    }\n",
       "\n",
       "    .dataframe thead th {\n",
       "        text-align: right;\n",
       "    }\n",
       "</style>\n",
       "<table border=\"1\" class=\"dataframe\">\n",
       "  <thead>\n",
       "    <tr style=\"text-align: right;\">\n",
       "      <th></th>\n",
       "      <th>Number</th>\n",
       "      <th>score</th>\n",
       "      <th>Year</th>\n",
       "      <th>label_value</th>\n",
       "      <th>Average RMSE</th>\n",
       "    </tr>\n",
       "    <tr>\n",
       "      <th>Era</th>\n",
       "      <th></th>\n",
       "      <th></th>\n",
       "      <th></th>\n",
       "      <th></th>\n",
       "      <th></th>\n",
       "    </tr>\n",
       "  </thead>\n",
       "  <tbody>\n",
       "    <tr>\n",
       "      <th>1800.0</th>\n",
       "      <td>67568.500000</td>\n",
       "      <td>3.500000</td>\n",
       "      <td>1897.000000</td>\n",
       "      <td>3.77452</td>\n",
       "      <td>0.500000</td>\n",
       "    </tr>\n",
       "    <tr>\n",
       "      <th>1900.0</th>\n",
       "      <td>114580.939793</td>\n",
       "      <td>3.908443</td>\n",
       "      <td>1939.699679</td>\n",
       "      <td>3.77452</td>\n",
       "      <td>0.848900</td>\n",
       "    </tr>\n",
       "    <tr>\n",
       "      <th>1950.0</th>\n",
       "      <td>115269.542944</td>\n",
       "      <td>3.615449</td>\n",
       "      <td>1989.918167</td>\n",
       "      <td>3.77452</td>\n",
       "      <td>0.870338</td>\n",
       "    </tr>\n",
       "    <tr>\n",
       "      <th>2000.0</th>\n",
       "      <td>115608.104700</td>\n",
       "      <td>3.675265</td>\n",
       "      <td>2003.957346</td>\n",
       "      <td>3.77452</td>\n",
       "      <td>0.838241</td>\n",
       "    </tr>\n",
       "  </tbody>\n",
       "</table>\n",
       "</div>"
      ],
      "text/plain": [
       "               Number     score         Year  label_value  Average RMSE\n",
       "Era                                                                    \n",
       "1800.0   67568.500000  3.500000  1897.000000      3.77452      0.500000\n",
       "1900.0  114580.939793  3.908443  1939.699679      3.77452      0.848900\n",
       "1950.0  115269.542944  3.615449  1989.918167      3.77452      0.870338\n",
       "2000.0  115608.104700  3.675265  2003.957346      3.77452      0.838241"
      ]
     },
     "execution_count": 20,
     "metadata": {},
     "output_type": "execute_result"
    }
   ],
   "source": [
    "df.groupby('Era').mean()"
   ]
  },
  {
   "cell_type": "code",
   "execution_count": 88,
   "metadata": {},
   "outputs": [],
   "source": [
    "min_movie_ratings = 2\n",
    "filter_movies = df['moviename'].value_counts() < min_movie_ratings\n",
    "filter_movies = filter_movies[filter_movies].index.tolist()"
   ]
  },
  {
   "cell_type": "code",
   "execution_count": 93,
   "metadata": {},
   "outputs": [
    {
     "data": {
      "text/plain": [
       "array([2000, 1950, 1900, nan, '1900'], dtype=object)"
      ]
     },
     "execution_count": 93,
     "metadata": {},
     "output_type": "execute_result"
    }
   ],
   "source": []
  },
  {
   "cell_type": "code",
   "execution_count": 97,
   "metadata": {},
   "outputs": [],
   "source": [
    "df.to_csv('predictrate.csv')"
   ]
  },
  {
   "cell_type": "code",
   "execution_count": null,
   "metadata": {},
   "outputs": [],
   "source": []
  }
 ],
 "metadata": {
  "interpreter": {
   "hash": "fe5fc5a4e85a98f5ec2368205e2093fa7f332376dcd66e7a166f02ac1e728be7"
  },
  "kernelspec": {
   "display_name": "Python 3.9.12 ('base')",
   "language": "python",
   "name": "python3"
  },
  "language_info": {
   "codemirror_mode": {
    "name": "ipython",
    "version": 3
   },
   "file_extension": ".py",
   "mimetype": "text/x-python",
   "name": "python",
   "nbconvert_exporter": "python",
   "pygments_lexer": "ipython3",
   "version": "3.9.12"
  },
  "orig_nbformat": 4
 },
 "nbformat": 4,
 "nbformat_minor": 2
}
